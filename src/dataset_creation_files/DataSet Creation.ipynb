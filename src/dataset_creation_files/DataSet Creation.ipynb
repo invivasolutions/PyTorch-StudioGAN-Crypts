{
 "cells": [
  {
   "cell_type": "markdown",
   "id": "25c9f49a-e593-47b1-b7bd-d70a8f876fa5",
   "metadata": {},
   "source": [
    "# Create Dataset for GAN\n",
    "Based on the code from the YOLO dataset creation, this will make folders in a linked structure as described in the readme here:\n",
    "https://github.com/POSTECH-CVLab/PyTorch-StudioGAN?tab=readme-ov-file#dataset"
   ]
  },
  {
   "cell_type": "code",
   "execution_count": 1,
   "id": "1b8dcc99-8adb-4bd8-859e-839016b33901",
   "metadata": {
    "execution": {
     "iopub.execute_input": "2024-04-06T20:18:36.005885Z",
     "iopub.status.busy": "2024-04-06T20:18:36.004872Z",
     "iopub.status.idle": "2024-04-06T20:18:44.069056Z",
     "shell.execute_reply": "2024-04-06T20:18:44.069056Z",
     "shell.execute_reply.started": "2024-04-06T20:18:36.005885Z"
    }
   },
   "outputs": [
    {
     "name": "stdout",
     "output_type": "stream",
     "text": [
      "found details for 55948 images\n"
     ]
    },
    {
     "data": {
      "text/html": [
       "<div>\n",
       "<style scoped>\n",
       "    .dataframe tbody tr th:only-of-type {\n",
       "        vertical-align: middle;\n",
       "    }\n",
       "\n",
       "    .dataframe tbody tr th {\n",
       "        vertical-align: top;\n",
       "    }\n",
       "\n",
       "    .dataframe thead th {\n",
       "        text-align: right;\n",
       "    }\n",
       "</style>\n",
       "<table border=\"1\" class=\"dataframe\">\n",
       "  <thead>\n",
       "    <tr style=\"text-align: right;\">\n",
       "      <th></th>\n",
       "      <th>FileName</th>\n",
       "      <th>OriginalImage</th>\n",
       "      <th>PatchXLocation</th>\n",
       "      <th>PatchYLocation</th>\n",
       "      <th>OriginalXLocation</th>\n",
       "      <th>OriginalYLocation</th>\n",
       "      <th>cropHeight</th>\n",
       "      <th>cropWidth</th>\n",
       "      <th>padding</th>\n",
       "      <th>JustFileName</th>\n",
       "    </tr>\n",
       "  </thead>\n",
       "  <tbody>\n",
       "    <tr>\n",
       "      <th>0</th>\n",
       "      <td>9c256bec-a1f2-433d-86f8-57c67b0fe26f.png</td>\n",
       "      <td>/openpatho-colorectal-unitopatho/unitopatho/70...</td>\n",
       "      <td>0</td>\n",
       "      <td>0</td>\n",
       "      <td>546</td>\n",
       "      <td>382</td>\n",
       "      <td>211</td>\n",
       "      <td>165</td>\n",
       "      <td>[167, 144, 168, 145]</td>\n",
       "      <td>9c256bec-a1f2-433d-86f8-57c67b0fe26f.png</td>\n",
       "    </tr>\n",
       "    <tr>\n",
       "      <th>1</th>\n",
       "      <td>28b45f1f-93db-4ae2-a07e-fa236bb31c33.png</td>\n",
       "      <td>/openpatho-colorectal-unitopatho/unitopatho/70...</td>\n",
       "      <td>0</td>\n",
       "      <td>0</td>\n",
       "      <td>551</td>\n",
       "      <td>65</td>\n",
       "      <td>270</td>\n",
       "      <td>198</td>\n",
       "      <td>[151, 115, 151, 115]</td>\n",
       "      <td>28b45f1f-93db-4ae2-a07e-fa236bb31c33.png</td>\n",
       "    </tr>\n",
       "    <tr>\n",
       "      <th>2</th>\n",
       "      <td>e3a308e3-14f6-4c13-84e5-4a8a8b07bc92.png</td>\n",
       "      <td>/openpatho-colorectal-unitopatho/unitopatho/70...</td>\n",
       "      <td>0</td>\n",
       "      <td>0</td>\n",
       "      <td>555</td>\n",
       "      <td>72</td>\n",
       "      <td>180</td>\n",
       "      <td>142</td>\n",
       "      <td>[179, 160, 179, 160]</td>\n",
       "      <td>e3a308e3-14f6-4c13-84e5-4a8a8b07bc92.png</td>\n",
       "    </tr>\n",
       "    <tr>\n",
       "      <th>3</th>\n",
       "      <td>7e98a85b-3788-4d85-a6e7-f0a0a10d6624.png</td>\n",
       "      <td>/openpatho-colorectal-unitopatho/unitopatho/70...</td>\n",
       "      <td>0</td>\n",
       "      <td>0</td>\n",
       "      <td>795</td>\n",
       "      <td>0</td>\n",
       "      <td>230</td>\n",
       "      <td>97</td>\n",
       "      <td>[201, 135, 202, 135]</td>\n",
       "      <td>7e98a85b-3788-4d85-a6e7-f0a0a10d6624.png</td>\n",
       "    </tr>\n",
       "    <tr>\n",
       "      <th>4</th>\n",
       "      <td>b83eecc9-3fb9-429a-bb56-8cf5a0a6589f.png</td>\n",
       "      <td>/openpatho-colorectal-unitopatho/unitopatho/70...</td>\n",
       "      <td>1536</td>\n",
       "      <td>0</td>\n",
       "      <td>2585</td>\n",
       "      <td>985</td>\n",
       "      <td>187</td>\n",
       "      <td>266</td>\n",
       "      <td>[117, 156, 117, 157]</td>\n",
       "      <td>b83eecc9-3fb9-429a-bb56-8cf5a0a6589f.png</td>\n",
       "    </tr>\n",
       "  </tbody>\n",
       "</table>\n",
       "</div>"
      ],
      "text/plain": [
       "                                   FileName  \\\n",
       "0  9c256bec-a1f2-433d-86f8-57c67b0fe26f.png   \n",
       "1  28b45f1f-93db-4ae2-a07e-fa236bb31c33.png   \n",
       "2  e3a308e3-14f6-4c13-84e5-4a8a8b07bc92.png   \n",
       "3  7e98a85b-3788-4d85-a6e7-f0a0a10d6624.png   \n",
       "4  b83eecc9-3fb9-429a-bb56-8cf5a0a6589f.png   \n",
       "\n",
       "                                       OriginalImage  PatchXLocation  \\\n",
       "0  /openpatho-colorectal-unitopatho/unitopatho/70...               0   \n",
       "1  /openpatho-colorectal-unitopatho/unitopatho/70...               0   \n",
       "2  /openpatho-colorectal-unitopatho/unitopatho/70...               0   \n",
       "3  /openpatho-colorectal-unitopatho/unitopatho/70...               0   \n",
       "4  /openpatho-colorectal-unitopatho/unitopatho/70...            1536   \n",
       "\n",
       "   PatchYLocation  OriginalXLocation  OriginalYLocation  cropHeight  \\\n",
       "0               0                546                382         211   \n",
       "1               0                551                 65         270   \n",
       "2               0                555                 72         180   \n",
       "3               0                795                  0         230   \n",
       "4               0               2585                985         187   \n",
       "\n",
       "   cropWidth               padding                              JustFileName  \n",
       "0        165  [167, 144, 168, 145]  9c256bec-a1f2-433d-86f8-57c67b0fe26f.png  \n",
       "1        198  [151, 115, 151, 115]  28b45f1f-93db-4ae2-a07e-fa236bb31c33.png  \n",
       "2        142  [179, 160, 179, 160]  e3a308e3-14f6-4c13-84e5-4a8a8b07bc92.png  \n",
       "3         97  [201, 135, 202, 135]  7e98a85b-3788-4d85-a6e7-f0a0a10d6624.png  \n",
       "4        266  [117, 156, 117, 157]  b83eecc9-3fb9-429a-bb56-8cf5a0a6589f.png  "
      ]
     },
     "execution_count": 1,
     "metadata": {},
     "output_type": "execute_result"
    }
   ],
   "source": [
    "import os, pickle, json\n",
    "import pandas as pd\n",
    "from pathlib import Path\n",
    "\n",
    "def get_aws_grouping(rootFolder):\n",
    "    if os.path.exists(f\"{rootFolder}/new_aws_ratings.pickle\"):\n",
    "        with open(f\"{rootFolder}/new_aws_ratings.pickle\",\"rb\") as f:\n",
    "            ratings = pickle.load(f)\n",
    "    else:\n",
    "        ratings = []\n",
    "        print(\"nothing found in ratings folder\")\n",
    "    return ratings\n",
    "\n",
    "def cumulative_length(d):\n",
    "    return sum(len(lst) for lst in d.values())\n",
    "\n",
    "groups = get_aws_grouping(\".\")\n",
    "\n",
    "print(f\"found details for {cumulative_length(groups)} images\")\n",
    "\n",
    "with open('output_crypts_dedupe.pickle', 'rb') as f:\n",
    "    df = pickle.load(f)\n",
    "\n",
    "\n",
    "\n",
    "df.head()"
   ]
  },
  {
   "cell_type": "markdown",
   "id": "a96646ad-6992-4749-bac6-a327737291e5",
   "metadata": {},
   "source": [
    "## Read Human Labels\n",
    "read in and summarise the human labelling effort thus far."
   ]
  },
  {
   "cell_type": "code",
   "execution_count": 2,
   "id": "ba309bf8-4602-470c-b5ba-a43b1048977c",
   "metadata": {
    "execution": {
     "iopub.execute_input": "2024-04-06T20:18:44.071058Z",
     "iopub.status.busy": "2024-04-06T20:18:44.071058Z",
     "iopub.status.idle": "2024-04-06T20:18:44.382591Z",
     "shell.execute_reply": "2024-04-06T20:18:44.382591Z",
     "shell.execute_reply.started": "2024-04-06T20:18:44.071058Z"
    }
   },
   "outputs": [
    {
     "name": "stdout",
     "output_type": "stream",
     "text": [
      "using the labels from the human efforts, we have crypts in 855 slides\n"
     ]
    }
   ],
   "source": [
    "all_labelled_files = []\n",
    "possible_labels = [\"unlabelled\"]\n",
    "for key, listImages in groups.items():\n",
    "    possible_labels.append(key)\n",
    "    strippedImages = [os.path.basename(imagepath) for imagepath in listImages]\n",
    "    all_labelled_files.extend(strippedImages)\n",
    "\n",
    "matching_rows = df[df['JustFileName'].isin(all_labelled_files)]\n",
    "matched_values = matching_rows['OriginalImage'].unique().tolist()\n",
    "print(f\"using the labels from the human efforts, we have crypts in {len(matched_values)} slides\")"
   ]
  },
  {
   "cell_type": "markdown",
   "id": "5bdbf747-f030-44f3-925c-9295ce7a7774",
   "metadata": {},
   "source": [
    "## Add in extra labels from the RESNET Labeller\n",
    "If we say that anything with > 90% confidence is as accurately labelled as our human labelling we can add in a bunch more labelled crypts: "
   ]
  },
  {
   "cell_type": "code",
   "execution_count": 7,
   "id": "83e903ee-4ffc-4230-9dec-56076ed3fafe",
   "metadata": {
    "execution": {
     "iopub.execute_input": "2024-04-06T20:19:25.674823Z",
     "iopub.status.busy": "2024-04-06T20:19:25.674823Z",
     "iopub.status.idle": "2024-04-06T20:19:27.979558Z",
     "shell.execute_reply": "2024-04-06T20:19:27.979558Z",
     "shell.execute_reply.started": "2024-04-06T20:19:25.674823Z"
    }
   },
   "outputs": [
    {
     "name": "stdout",
     "output_type": "stream",
     "text": [
      "This gives us 36607 new labels\n"
     ]
    },
    {
     "data": {
      "text/html": [
       "<div>\n",
       "<style scoped>\n",
       "    .dataframe tbody tr th:only-of-type {\n",
       "        vertical-align: middle;\n",
       "    }\n",
       "\n",
       "    .dataframe tbody tr th {\n",
       "        vertical-align: top;\n",
       "    }\n",
       "\n",
       "    .dataframe thead th {\n",
       "        text-align: right;\n",
       "    }\n",
       "</style>\n",
       "<table border=\"1\" class=\"dataframe\">\n",
       "  <thead>\n",
       "    <tr style=\"text-align: right;\">\n",
       "      <th></th>\n",
       "      <th>FileName</th>\n",
       "      <th>OriginalImage</th>\n",
       "      <th>PatchXLocation</th>\n",
       "      <th>PatchYLocation</th>\n",
       "      <th>OriginalXLocation</th>\n",
       "      <th>OriginalYLocation</th>\n",
       "      <th>cropHeight</th>\n",
       "      <th>cropWidth</th>\n",
       "      <th>padding</th>\n",
       "      <th>JustFileName</th>\n",
       "      <th>filenames</th>\n",
       "      <th>modelledClass</th>\n",
       "      <th>probs</th>\n",
       "      <th>confidence</th>\n",
       "    </tr>\n",
       "  </thead>\n",
       "  <tbody>\n",
       "    <tr>\n",
       "      <th>1</th>\n",
       "      <td>28b45f1f-93db-4ae2-a07e-fa236bb31c33.png</td>\n",
       "      <td>/openpatho-colorectal-unitopatho/unitopatho/70...</td>\n",
       "      <td>0</td>\n",
       "      <td>0</td>\n",
       "      <td>551</td>\n",
       "      <td>65</td>\n",
       "      <td>270</td>\n",
       "      <td>198</td>\n",
       "      <td>[151, 115, 151, 115]</td>\n",
       "      <td>28b45f1f-93db-4ae2-a07e-fa236bb31c33.png</td>\n",
       "      <td>28b45f1f-93db-4ae2-a07e-fa236bb31c33.png</td>\n",
       "      <td>Something Irrelevant</td>\n",
       "      <td>[6.8051518e-06, 1.4318189e-05, 0.99989164, 8.7...</td>\n",
       "      <td>0.999892</td>\n",
       "    </tr>\n",
       "    <tr>\n",
       "      <th>7</th>\n",
       "      <td>3191da06-1d3b-46c5-a580-f937c2668aec.png</td>\n",
       "      <td>/openpatho-colorectal-unitopatho/unitopatho/70...</td>\n",
       "      <td>3072</td>\n",
       "      <td>0</td>\n",
       "      <td>4932</td>\n",
       "      <td>17</td>\n",
       "      <td>171</td>\n",
       "      <td>186</td>\n",
       "      <td>[157, 164, 157, 165]</td>\n",
       "      <td>3191da06-1d3b-46c5-a580-f937c2668aec.png</td>\n",
       "      <td>3191da06-1d3b-46c5-a580-f937c2668aec.png</td>\n",
       "      <td>Something Irrelevant</td>\n",
       "      <td>[7.984322e-05, 1.313553e-06, 0.99991155, 7.327...</td>\n",
       "      <td>0.999912</td>\n",
       "    </tr>\n",
       "    <tr>\n",
       "      <th>9</th>\n",
       "      <td>1be9d24f-a78e-4294-90dc-b9bc7a2f827d.png</td>\n",
       "      <td>/openpatho-colorectal-unitopatho/unitopatho/70...</td>\n",
       "      <td>3072</td>\n",
       "      <td>0</td>\n",
       "      <td>4682</td>\n",
       "      <td>1456</td>\n",
       "      <td>318</td>\n",
       "      <td>148</td>\n",
       "      <td>[176, 91, 176, 91]</td>\n",
       "      <td>1be9d24f-a78e-4294-90dc-b9bc7a2f827d.png</td>\n",
       "      <td>1be9d24f-a78e-4294-90dc-b9bc7a2f827d.png</td>\n",
       "      <td>Something Irrelevant</td>\n",
       "      <td>[0.00013213811, 3.034871e-06, 0.9998472, 1.762...</td>\n",
       "      <td>0.999847</td>\n",
       "    </tr>\n",
       "    <tr>\n",
       "      <th>10</th>\n",
       "      <td>4e7f2de6-75cf-4608-bb53-9131e46d5671.png</td>\n",
       "      <td>/openpatho-colorectal-unitopatho/unitopatho/70...</td>\n",
       "      <td>3072</td>\n",
       "      <td>0</td>\n",
       "      <td>4426</td>\n",
       "      <td>1127</td>\n",
       "      <td>250</td>\n",
       "      <td>197</td>\n",
       "      <td>[151, 125, 152, 125]</td>\n",
       "      <td>4e7f2de6-75cf-4608-bb53-9131e46d5671.png</td>\n",
       "      <td>4e7f2de6-75cf-4608-bb53-9131e46d5671.png</td>\n",
       "      <td>Something Irrelevant</td>\n",
       "      <td>[6.265589e-05, 3.949634e-07, 0.99992156, 1.531...</td>\n",
       "      <td>0.999922</td>\n",
       "    </tr>\n",
       "    <tr>\n",
       "      <th>13</th>\n",
       "      <td>94f182b6-021e-4293-917a-ede4d99fc661.png</td>\n",
       "      <td>/openpatho-colorectal-unitopatho/unitopatho/70...</td>\n",
       "      <td>4608</td>\n",
       "      <td>0</td>\n",
       "      <td>5269</td>\n",
       "      <td>956</td>\n",
       "      <td>226</td>\n",
       "      <td>245</td>\n",
       "      <td>[127, 137, 128, 137]</td>\n",
       "      <td>94f182b6-021e-4293-917a-ede4d99fc661.png</td>\n",
       "      <td>94f182b6-021e-4293-917a-ede4d99fc661.png</td>\n",
       "      <td>Something Irrelevant</td>\n",
       "      <td>[1.282365e-05, 1.3702127e-06, 0.9999703, 1.541...</td>\n",
       "      <td>0.999970</td>\n",
       "    </tr>\n",
       "  </tbody>\n",
       "</table>\n",
       "</div>"
      ],
      "text/plain": [
       "                                    FileName  \\\n",
       "1   28b45f1f-93db-4ae2-a07e-fa236bb31c33.png   \n",
       "7   3191da06-1d3b-46c5-a580-f937c2668aec.png   \n",
       "9   1be9d24f-a78e-4294-90dc-b9bc7a2f827d.png   \n",
       "10  4e7f2de6-75cf-4608-bb53-9131e46d5671.png   \n",
       "13  94f182b6-021e-4293-917a-ede4d99fc661.png   \n",
       "\n",
       "                                        OriginalImage  PatchXLocation  \\\n",
       "1   /openpatho-colorectal-unitopatho/unitopatho/70...               0   \n",
       "7   /openpatho-colorectal-unitopatho/unitopatho/70...            3072   \n",
       "9   /openpatho-colorectal-unitopatho/unitopatho/70...            3072   \n",
       "10  /openpatho-colorectal-unitopatho/unitopatho/70...            3072   \n",
       "13  /openpatho-colorectal-unitopatho/unitopatho/70...            4608   \n",
       "\n",
       "    PatchYLocation  OriginalXLocation  OriginalYLocation  cropHeight  \\\n",
       "1                0                551                 65         270   \n",
       "7                0               4932                 17         171   \n",
       "9                0               4682               1456         318   \n",
       "10               0               4426               1127         250   \n",
       "13               0               5269                956         226   \n",
       "\n",
       "    cropWidth               padding                              JustFileName  \\\n",
       "1         198  [151, 115, 151, 115]  28b45f1f-93db-4ae2-a07e-fa236bb31c33.png   \n",
       "7         186  [157, 164, 157, 165]  3191da06-1d3b-46c5-a580-f937c2668aec.png   \n",
       "9         148    [176, 91, 176, 91]  1be9d24f-a78e-4294-90dc-b9bc7a2f827d.png   \n",
       "10        197  [151, 125, 152, 125]  4e7f2de6-75cf-4608-bb53-9131e46d5671.png   \n",
       "13        245  [127, 137, 128, 137]  94f182b6-021e-4293-917a-ede4d99fc661.png   \n",
       "\n",
       "                                   filenames         modelledClass  \\\n",
       "1   28b45f1f-93db-4ae2-a07e-fa236bb31c33.png  Something Irrelevant   \n",
       "7   3191da06-1d3b-46c5-a580-f937c2668aec.png  Something Irrelevant   \n",
       "9   1be9d24f-a78e-4294-90dc-b9bc7a2f827d.png  Something Irrelevant   \n",
       "10  4e7f2de6-75cf-4608-bb53-9131e46d5671.png  Something Irrelevant   \n",
       "13  94f182b6-021e-4293-917a-ede4d99fc661.png  Something Irrelevant   \n",
       "\n",
       "                                                probs  confidence  \n",
       "1   [6.8051518e-06, 1.4318189e-05, 0.99989164, 8.7...    0.999892  \n",
       "7   [7.984322e-05, 1.313553e-06, 0.99991155, 7.327...    0.999912  \n",
       "9   [0.00013213811, 3.034871e-06, 0.9998472, 1.762...    0.999847  \n",
       "10  [6.265589e-05, 3.949634e-07, 0.99992156, 1.531...    0.999922  \n",
       "13  [1.282365e-05, 1.3702127e-06, 0.9999703, 1.541...    0.999970  "
      ]
     },
     "execution_count": 7,
     "metadata": {},
     "output_type": "execute_result"
    }
   ],
   "source": [
    "with open(\"list-of-frames.pickle\", \"rb\") as f:\n",
    "    list_of_dataframes = pickle.load( f)\n",
    "classifier_results = pd.concat(list_of_dataframes, ignore_index=True)\n",
    "merged_df = df.merge(classifier_results, left_on='JustFileName', right_on='filenames', how='inner')\n",
    "merged_df['confidence'] = merged_df['probs'].apply(max)\n",
    "merged_df = merged_df[merged_df['confidence'] >= 0.9995]\n",
    "print(f\"This gives us {len(merged_df.index)} new labels\")\n",
    "merged_df.head()"
   ]
  },
  {
   "cell_type": "markdown",
   "id": "6c74dc90-345d-4ff1-b4d1-346ec0b5d3a4",
   "metadata": {},
   "source": [
    "## Extract from dataFrame to a dictionary\n",
    "This just makes it faster/easier to do the next sorting steps, and to over-write the classes from the resnet with our human ones:"
   ]
  },
  {
   "cell_type": "code",
   "execution_count": 8,
   "id": "885a7a30-401c-4c2f-821a-91d1023798cf",
   "metadata": {
    "execution": {
     "iopub.execute_input": "2024-04-06T20:21:56.733328Z",
     "iopub.status.busy": "2024-04-06T20:21:56.733328Z",
     "iopub.status.idle": "2024-04-06T20:21:56.794342Z",
     "shell.execute_reply": "2024-04-06T20:21:56.794342Z",
     "shell.execute_reply.started": "2024-04-06T20:21:56.733328Z"
    }
   },
   "outputs": [],
   "source": [
    "# export classified labels first:\n",
    "fileNameLookup = merged_df.set_index('JustFileName')['modelledClass'].to_dict()\n",
    "\n",
    "#assume human ones are better, and this over-writes by default\n",
    "for key, listImages in groups.items():\n",
    "    for image in listImages:\n",
    "        fileNameLookup[image] = key"
   ]
  },
  {
   "cell_type": "markdown",
   "id": "3264fec0-25b5-48eb-a554-0bd4abe0f908",
   "metadata": {},
   "source": [
    "## Filter out dud image files"
   ]
  },
  {
   "cell_type": "code",
   "execution_count": 9,
   "id": "6e8a81ff-8020-4e2a-b3ea-1e18ba402e59",
   "metadata": {
    "execution": {
     "iopub.execute_input": "2024-04-06T20:22:00.779754Z",
     "iopub.status.busy": "2024-04-06T20:22:00.778754Z",
     "iopub.status.idle": "2024-04-06T20:22:00.793760Z",
     "shell.execute_reply": "2024-04-06T20:22:00.792761Z",
     "shell.execute_reply.started": "2024-04-06T20:22:00.779754Z"
    }
   },
   "outputs": [],
   "source": [
    "import os\n",
    "from PIL import Image\n",
    "\n",
    "def is_image(file_path, verbose=False):\n",
    "    \"\"\"Check if the file exists and is a valid image file.\n",
    "\n",
    "    Args:\n",
    "        file_path (str): Path to the file to check.\n",
    "        verbose (bool): If True, print messages about the file's validity.\n",
    "    Returns:\n",
    "        bool: True if the file exists and is a valid image, False otherwise.\n",
    "    \"\"\"\n",
    "    # Check if the file exists\n",
    "    if not os.path.isfile(file_path):\n",
    "        if verbose: print(f\"File does not exist: {file_path}\")\n",
    "        return False\n",
    "\n",
    "    # Attempt to open the file as an image\n",
    "    try:\n",
    "        with Image.open(file_path) as img:\n",
    "            # If successful, print the image format (optional)\n",
    "            if verbose: print(f\"Valid image file with format: {img.format}\")\n",
    "            return True\n",
    "    except (IOError, SyntaxError) as e:\n",
    "        if verbose: print(f\"Invalid image file: {file_path}. Error: {e}\")\n",
    "    except Exception as e:\n",
    "        if verbose: print(f\"Other error when loading the image file {e}\")\n",
    "\n",
    "    return False"
   ]
  },
  {
   "cell_type": "markdown",
   "id": "c9c77996-5308-4b92-ab4b-4960e397a24e",
   "metadata": {},
   "source": [
    "## Linking Loop\n",
    "Loop to move the files into the right directory structure\n",
    "\n",
    "To have a better chance of an even class split after the train/val split we shuffle the dictionary too."
   ]
  },
  {
   "cell_type": "code",
   "execution_count": 10,
   "id": "6ed3bb1d-0d87-40d3-a8df-9e6b97b75506",
   "metadata": {
    "execution": {
     "iopub.execute_input": "2024-04-06T20:22:04.936802Z",
     "iopub.status.busy": "2024-04-06T20:22:04.936802Z",
     "iopub.status.idle": "2024-04-06T20:24:21.151972Z",
     "shell.execute_reply": "2024-04-06T20:24:21.151972Z",
     "shell.execute_reply.started": "2024-04-06T20:22:04.936802Z"
    }
   },
   "outputs": [
    {
     "data": {
      "application/vnd.jupyter.widget-view+json": {
       "model_id": "363fc9f7ad1d4058a204a6dbceb75b18",
       "version_major": 2,
       "version_minor": 0
      },
      "text/plain": [
       "  0%|          | 0/89650 [00:00<?, ?it/s]"
      ]
     },
     "metadata": {},
     "output_type": "display_data"
    }
   ],
   "source": [
    "from tqdm.notebook import tqdm\n",
    "import random\n",
    "\n",
    "trainSplit = int(len(fileNameLookup)*0.75) # 75/25 split of train and validation images.\n",
    "\n",
    "# We need to do this as this will mean our train/val split is likely to have broadly even classes.\n",
    "# Convert dictionary items to a list of (key, value) tuples\n",
    "items = list(fileNameLookup.items())\n",
    "\n",
    "# Shuffle the list\n",
    "random.shuffle(items)\n",
    "\n",
    "\n",
    "\n",
    "i=1\n",
    "\n",
    "for file, label in tqdm(items):\n",
    "\n",
    "    if i < trainSplit: \n",
    "        destPath = f\"../small_dataset/train/{label}/{file}\"\n",
    "    else: \n",
    "        destPath = f\"../small_dataset/valid/{label}/{file}\"\n",
    "        \n",
    "    srcPath = \"B:/restained_new/\" + file\n",
    "    if not is_image(srcPath):\n",
    "        continue\n",
    "    os.makedirs(os.path.dirname(destPath), exist_ok=True)\n",
    "    os.symlink(srcPath,destPath)\n",
    "    i += 1"
   ]
  },
  {
   "cell_type": "code",
   "execution_count": 13,
   "id": "2b4ee111-e9e9-4f07-a3e0-98c33cfd9f11",
   "metadata": {
    "execution": {
     "iopub.execute_input": "2024-04-06T20:27:03.140944Z",
     "iopub.status.busy": "2024-04-06T20:27:03.140944Z",
     "iopub.status.idle": "2024-04-06T20:46:08.079393Z",
     "shell.execute_reply": "2024-04-06T20:46:08.079393Z",
     "shell.execute_reply.started": "2024-04-06T20:27:03.140944Z"
    }
   },
   "outputs": [
    {
     "name": "stderr",
     "output_type": "stream",
     "text": [
      "Processing Images: 100%|█████████████████████████████████████████████████████████| 89200/89200 [19:00<00:00, 78.18it/s]\n"
     ]
    }
   ],
   "source": [
    "from sizeUpWithBorder import process_images\n",
    "process_images(\"../small_dataset/\")"
   ]
  },
  {
   "cell_type": "code",
   "execution_count": null,
   "id": "94f599ea-4262-44da-9e99-22957a82121a",
   "metadata": {},
   "outputs": [],
   "source": []
  }
 ],
 "metadata": {
  "kernelspec": {
   "display_name": "Python 3 (ipykernel)",
   "language": "python",
   "name": "python3"
  },
  "language_info": {
   "codemirror_mode": {
    "name": "ipython",
    "version": 3
   },
   "file_extension": ".py",
   "mimetype": "text/x-python",
   "name": "python",
   "nbconvert_exporter": "python",
   "pygments_lexer": "ipython3",
   "version": "3.8.18"
  }
 },
 "nbformat": 4,
 "nbformat_minor": 5
}
